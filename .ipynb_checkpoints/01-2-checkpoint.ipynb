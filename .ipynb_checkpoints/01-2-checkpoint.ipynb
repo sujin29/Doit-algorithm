{
 "cells": [
  {
   "cell_type": "markdown",
   "metadata": {},
   "source": [
    "# 01-2 반복하는 알고리즘"
   ]
  },
  {
   "cell_type": "markdown",
   "metadata": {},
   "source": [
    "실습 1-7. 1부터 n까지 정수의 합 구하기 1 (while 문)"
   ]
  },
  {
   "cell_type": "code",
   "execution_count": null,
   "metadata": {},
   "outputs": [],
   "source": [
    "sum = 0\n",
    "i = 1\n",
    "n = int(input('정수를 입력하세요: '))\n",
    "\n",
    "while i <= n :\n",
    "    sum += i\n",
    "    i += 1\n",
    "    \n",
    "print(f'1부터 {n}까지 정수의 합은{sum}입니다.')\n",
    "print(f'i값은 {i}입니다.')"
   ]
  },
  {
   "cell_type": "markdown",
   "metadata": {},
   "source": [
    "실습 1-8. 1부터 n까지 정수의 합 구하기 2 (for 문)"
   ]
  },
  {
   "cell_type": "code",
   "execution_count": null,
   "metadata": {},
   "outputs": [],
   "source": [
    "print('1부터 n까지 정수의 합을 구합니다')\n",
    "n = int(input('정수 값을 입력하세요: '))\n",
    "sum = 0\n",
    "\n",
    "for i in range(1, n+1):\n",
    "    sum += i\n",
    "\n",
    "print(f'1부터 {n}까지 정수의 합은 {sum}입니다.')"
   ]
  },
  {
   "cell_type": "markdown",
   "metadata": {},
   "source": [
    "가우스의 덧셈"
   ]
  },
  {
   "cell_type": "code",
   "execution_count": null,
   "metadata": {},
   "outputs": [],
   "source": [
    "print('1부터 n까지 정수의 합을 구합니다')\n",
    "n = int(input('정수 값을 입력하세요: '))\n",
    "\n",
    "\n",
    "sum = (1+n)*n //2 \n",
    "\n",
    "print(f'1부터 {n}까지 정수의 합은 {sum}입니다.')"
   ]
  },
  {
   "cell_type": "markdown",
   "metadata": {},
   "source": [
    "실습 1-9. a부터 b까지 정수의 합 구하기 (for 문)"
   ]
  },
  {
   "cell_type": "code",
   "execution_count": null,
   "metadata": {},
   "outputs": [],
   "source": [
    "a = int(input('정수 a를 입력하세요'))\n",
    "b = int(input('정수 b를 입력하세요'))\n",
    "\n",
    "sum = a\n",
    "\n",
    "for i in range(a-1, b+1):\n",
    "    sum += i\n",
    "    \n",
    "print(f'{a}부터 {b}까지 정수의 합은 {sum}입니다.')\n",
    "\n",
    "print('땡~')"
   ]
  },
  {
   "cell_type": "markdown",
   "metadata": {},
   "source": [
    "정답"
   ]
  },
  {
   "cell_type": "code",
   "execution_count": null,
   "metadata": {},
   "outputs": [],
   "source": [
    "a = int(input('정수 a를 입력하세요: '))\n",
    "b = int(input('정수 b를 입력하세요: '))\n",
    "\n",
    "if a>b:\n",
    "    a, b = b, a\n",
    "    \n",
    "sum = 0\n",
    "for i in range(a, b+1):\n",
    "    sum += i\n",
    "    \n",
    "print(f'{a}부터 {b}까지 정수의 합은 {sum}입니다.')"
   ]
  },
  {
   "cell_type": "markdown",
   "metadata": {},
   "source": [
    "실습 1-10"
   ]
  },
  {
   "cell_type": "code",
   "execution_count": null,
   "metadata": {},
   "outputs": [],
   "source": [
    "a = int(input('정수 a를 입력하세요: '))\n",
    "b = int(input('정수 b를 입력하세요: '))\n",
    "\n",
    "if a>b:\n",
    "    a, b = b, a\n",
    "    \n",
    "sum = 0\n",
    "\n",
    "for i in range(a, b+1):\n",
    "    if i < b:\n",
    "        print(f'{i}+', end = '')\n",
    "    else:\n",
    "        print(f'{i} = ', end = '')\n",
    "    sum += i\n",
    "\n",
    "print(sum)"
   ]
  },
  {
   "cell_type": "code",
   "execution_count": null,
   "metadata": {},
   "outputs": [],
   "source": [
    "a = int(input('정수 a를 입력하세요: '))\n",
    "b = int(input('정수 b를 입력하세요: '))\n",
    "\n",
    "if a>b:\n",
    "    a, b = b, a\n",
    "    \n",
    "sum = 0\n",
    "for i in range(a, b): \n",
    "    print(f'{i}+', end = '')\n",
    "    sum += i\n",
    "    \n",
    "print(f'{b} = ', end= '')\n",
    "sum += b\n",
    "\n",
    "print(sum)\n"
   ]
  },
  {
   "cell_type": "markdown",
   "metadata": {},
   "source": [
    "실습 1-12. +와 -를 번갈아 출력하기 1"
   ]
  },
  {
   "cell_type": "code",
   "execution_count": null,
   "metadata": {},
   "outputs": [],
   "source": [
    "print('+와 -를 번갈아 출력합니다')\n",
    "\n",
    "n = int(input('몇 개를 출력할까요?: '))\n",
    "\n",
    "for i in range(n):\n",
    "    if i % 2 == 0:\n",
    "        print('-', end = ' ')\n",
    "    else:\n",
    "        print('+', end = ' ')\n",
    "        "
   ]
  },
  {
   "cell_type": "markdown",
   "metadata": {},
   "source": [
    "실습 1-13. +와 -를 번갈아 출력하기 2"
   ]
  },
  {
   "cell_type": "code",
   "execution_count": null,
   "metadata": {},
   "outputs": [],
   "source": [
    "print('+와 -를 번갈아 출력합니다')\n",
    "\n",
    "n = int(input('몇 개를 출력할까요?: '))\n",
    "\n",
    "for _ in range(n//2):\n",
    "    print('+-', end = '')\n",
    "\n",
    "if n % 2 :\n",
    "    print('+', end = \"\")"
   ]
  },
  {
   "cell_type": "markdown",
   "metadata": {},
   "source": [
    "실습 1-14. *을 n개 출력하되 w개마다 줄바꿈하기 1"
   ]
  },
  {
   "cell_type": "code",
   "execution_count": null,
   "metadata": {},
   "outputs": [],
   "source": [
    "n = int(input('몇 개를 출력할까요?: '))\n",
    "w = int(input('몇 개마다 줄바꿈할까요?: '))\n",
    "\n",
    "for i in range(1, n+1):\n",
    "    if i % w == 0:\n",
    "        print('*', end = '\\n')\n",
    "    else:\n",
    "        print('*', end = '')"
   ]
  },
  {
   "cell_type": "markdown",
   "metadata": {},
   "source": [
    "실습 1-15. *을 n개 출력하되 w개마다 줄바꿈하기 2"
   ]
  },
  {
   "cell_type": "code",
   "execution_count": null,
   "metadata": {},
   "outputs": [],
   "source": [
    "n = int(input('몇 개를 출력할까요?: '))\n",
    "w = int(input('몇 개마다 줄바꿈할까요?: '))\n",
    "\n",
    "for _ in range(n//w):\n",
    "    print('*' * w)\n",
    "\n",
    "rest = n % w\n",
    "if rest:\n",
    "    print('*'*rest)"
   ]
  },
  {
   "cell_type": "markdown",
   "metadata": {},
   "source": [
    "실습 1-16. 1부터 n까지 정수의 합 구하기 (n값은 양수만 입력받음)"
   ]
  },
  {
   "cell_type": "code",
   "execution_count": 2,
   "metadata": {},
   "outputs": [
    {
     "name": "stdout",
     "output_type": "stream",
     "text": [
      "1부터 n까지 정수의 합을 구합니다\n",
      "정수 값을 입력하세요: 10\n",
      "1부터 10까지 정수의 합은 55입니다.\n"
     ]
    }
   ],
   "source": [
    "print('1부터 n까지 정수의 합을 구합니다')\n",
    "\n",
    "while True:\n",
    "    n = int(input('정수 값을 입력하세요: '))\n",
    "    if n > 0:\n",
    "        break\n",
    "\n",
    "sum = 0\n",
    "i = 1\n",
    "\n",
    "for i in range(1, n+1):\n",
    "    sum += i\n",
    "    i+=1\n",
    "    \n",
    "print(f'1부터 {n}까지 정수의 합은 {sum}입니다.')"
   ]
  },
  {
   "cell_type": "markdown",
   "metadata": {},
   "source": [
    "실습 1-17. 가로, 세로 길이가 정수이고 넓이가 area인 직사각형에서 변의 길이 나열하기"
   ]
  },
  {
   "cell_type": "code",
   "execution_count": 12,
   "metadata": {},
   "outputs": [
    {
     "name": "stdout",
     "output_type": "stream",
     "text": [
      "직사각형의 넓이를 입력하세요: 32\n",
      "1 32.0\n",
      "2 16.0\n",
      "4 8.0\n",
      "8 4.0\n"
     ]
    }
   ],
   "source": [
    "area = int(input('직사각형의 넓이를 입력하세요: '))\n",
    "\n",
    "for i in range(1, area//2):\n",
    "    if area % i == 0:\n",
    "        print(i, area/i)"
   ]
  },
  {
   "cell_type": "markdown",
   "metadata": {},
   "source": [
    "정답"
   ]
  },
  {
   "cell_type": "code",
   "execution_count": 15,
   "metadata": {},
   "outputs": [
    {
     "name": "stdout",
     "output_type": "stream",
     "text": [
      "직사각형의 넓이를 입력하세요: 36\n",
      "1 x 36\n",
      "2 x 18\n",
      "3 x 12\n",
      "4 x 9\n",
      "6 x 6\n"
     ]
    }
   ],
   "source": [
    "area = int(input('직사각형의 넓이를 입력하세요: '))\n",
    "\n",
    "for i in range(1, area+1):\n",
    "    if i * i > area:\n",
    "        break\n",
    "    if area % i:\n",
    "        continue\n",
    "    print(f'{i} x {area//i}')"
   ]
  },
  {
   "cell_type": "code",
   "execution_count": null,
   "metadata": {},
   "outputs": [],
   "source": []
  }
 ],
 "metadata": {
  "kernelspec": {
   "display_name": "Python 3",
   "language": "python",
   "name": "python3"
  },
  "language_info": {
   "codemirror_mode": {
    "name": "ipython",
    "version": 3
   },
   "file_extension": ".py",
   "mimetype": "text/x-python",
   "name": "python",
   "nbconvert_exporter": "python",
   "pygments_lexer": "ipython3",
   "version": "3.7.6"
  }
 },
 "nbformat": 4,
 "nbformat_minor": 4
}
