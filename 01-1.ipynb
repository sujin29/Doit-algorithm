{
 "cells": [
  {
   "cell_type": "markdown",
   "metadata": {},
   "source": [
    "# 01-1 알고리즘이란?"
   ]
  },
  {
   "cell_type": "markdown",
   "metadata": {},
   "source": [
    "실습 1-1. 세 정수의 최댓값 구하기 "
   ]
  },
  {
   "cell_type": "code",
   "execution_count": 1,
   "metadata": {},
   "outputs": [
    {
     "name": "stdout",
     "output_type": "stream",
     "text": [
      "세 정수의 최댓값을 구합니다.\n",
      "정수 a의 값을 입력하세요: 10\n",
      "정수 b의 값을 입력하세요: 20\n",
      "정수 c의 값을 입력하세요: 15\n",
      "최댓값은 20입니다.\n"
     ]
    }
   ],
   "source": [
    "print('세 정수의 최댓값을 구합니다.')\n",
    "a = int(input('정수 a의 값을 입력하세요: '))\n",
    "b = int(input('정수 b의 값을 입력하세요: '))\n",
    "c = int(input('정수 c의 값을 입력하세요: '))\n",
    "\n",
    "maximum = a\n",
    "if b > maximum:\n",
    "    maximum = b\n",
    "if c > maximum:\n",
    "    maximum = c\n",
    "    \n",
    "print(f'최댓값은 {maximum}입니다.')"
   ]
  },
  {
   "cell_type": "markdown",
   "metadata": {},
   "source": [
    "실습 1C-1"
   ]
  },
  {
   "cell_type": "code",
   "execution_count": 3,
   "metadata": {},
   "outputs": [
    {
     "name": "stdout",
     "output_type": "stream",
     "text": [
      "이름을 입력하세요: 수진짱\n",
      "안녕하세요? 수진짱님\n"
     ]
    }
   ],
   "source": [
    "print('이름을 입력하세요: ', end = '')\n",
    "name = input()\n",
    "print(f'안녕하세요? {name}님')"
   ]
  },
  {
   "cell_type": "markdown",
   "metadata": {},
   "source": [
    "실습 1-2"
   ]
  },
  {
   "cell_type": "code",
   "execution_count": 5,
   "metadata": {},
   "outputs": [
    {
     "name": "stdout",
     "output_type": "stream",
     "text": [
      "max3(3, 2, 1) = 3\n",
      "max3(3, 22, 11) = 22\n",
      "max3(13, 21, 11) = 21\n"
     ]
    }
   ],
   "source": [
    "def max3(a, b, c):\n",
    "    maximum = a\n",
    "    if b > maximum:\n",
    "        maximum = b\n",
    "    if c > maximum:\n",
    "        maximum = c\n",
    "    return maximum\n",
    "\n",
    "print(f'max3(3, 2, 1) = {max3(3,2, 1)}')\n",
    "print(f'max3(3, 22, 11) = {max3(3,22, 11)}')\n",
    "print(f'max3(13, 21, 11) = {max3(13,21, 11)}')"
   ]
  },
  {
   "cell_type": "markdown",
   "metadata": {},
   "source": [
    "알고리즘: 어떤 문제를 해결하기 위해 정해 놓은 일련의 절차"
   ]
  },
  {
   "cell_type": "markdown",
   "metadata": {},
   "source": [
    "실습 1C-2 세 정수를 입력받아 중앙값 구하기"
   ]
  },
  {
   "cell_type": "code",
   "execution_count": 7,
   "metadata": {},
   "outputs": [
    {
     "name": "stdout",
     "output_type": "stream",
     "text": [
      "세 정수의 중앙값을 구합니다\n",
      "정수 a의 값을 입력하세요: 2\n",
      "정수 b의 값을 입력하세요: 5\n",
      "정수 c의 값을 입력하세요: 1\n",
      "중앙값은 2입니다\n"
     ]
    }
   ],
   "source": [
    "def med3(a, b, c):\n",
    "    if a >= b:\n",
    "        if b>= c:\n",
    "            return b\n",
    "        elif a <= c:\n",
    "            return a\n",
    "        else:\n",
    "            return c\n",
    "    elif a > c:\n",
    "        return a\n",
    "    elif b > c :\n",
    "        return c\n",
    "    else:\n",
    "        return b\n",
    "    \n",
    "print('세 정수의 중앙값을 구합니다')\n",
    "a = int(input('정수 a의 값을 입력하세요: '))\n",
    "b = int(input('정수 b의 값을 입력하세요: '))\n",
    "c = int(input('정수 c의 값을 입력하세요: '))\n",
    "\n",
    "print(f'중앙값은 {med3(a, b, c)}입니다')"
   ]
  },
  {
   "cell_type": "code",
   "execution_count": 8,
   "metadata": {},
   "outputs": [
    {
     "name": "stdout",
     "output_type": "stream",
     "text": [
      "세 정수의 중앙값을 구합니다\n",
      "정수 a의 값을 입력하세요: 2\n",
      "정수 b의 값을 입력하세요: 5\n",
      "정수 c의 값을 입력하세요: 1\n",
      "중앙값은 2입니다\n"
     ]
    }
   ],
   "source": [
    "def med3(a, b, c):\n",
    "    if (b >= a and c<=a) or (b <= a, c >= a):\n",
    "        return a\n",
    "    elif (a >b and c<b) or (a <b and c>b):\n",
    "        return b\n",
    "    return c\n",
    "\n",
    "print('세 정수의 중앙값을 구합니다')\n",
    "a = int(input('정수 a의 값을 입력하세요: '))\n",
    "b = int(input('정수 b의 값을 입력하세요: '))\n",
    "c = int(input('정수 c의 값을 입력하세요: '))\n",
    "\n",
    "print(f'중앙값은 {med3(a, b, c)}입니다')"
   ]
  },
  {
   "cell_type": "markdown",
   "metadata": {},
   "source": [
    "실습 1-3 입력받은 정수의 부호(양수, 음수, 0) 출력하기"
   ]
  },
  {
   "cell_type": "code",
   "execution_count": 11,
   "metadata": {},
   "outputs": [
    {
     "name": "stdout",
     "output_type": "stream",
     "text": [
      "정수를 입력하세요: -10\n",
      "-10은 음수입니다\n"
     ]
    }
   ],
   "source": [
    "n = int(input('정수를 입력하세요: '))\n",
    "\n",
    "if n>0:\n",
    "    print(f'{n}은 양수입니다')\n",
    "elif n == 0:\n",
    "    print(f'{n}은 0입니다')\n",
    "else:\n",
    "    print(f'{n}은 음수입니다')"
   ]
  },
  {
   "cell_type": "markdown",
   "metadata": {},
   "source": [
    "실습 1-4 3개로 분기하는 조건문"
   ]
  },
  {
   "cell_type": "code",
   "execution_count": 13,
   "metadata": {},
   "outputs": [
    {
     "name": "stdout",
     "output_type": "stream",
     "text": [
      "정수를 입력하세요: 5\n",
      "C\n"
     ]
    }
   ],
   "source": [
    "n= int(input('정수를 입력하세요: '))\n",
    "\n",
    "if n == 1:\n",
    "    print('A')\n",
    "elif n==2:\n",
    "    print('B')\n",
    "else:\n",
    "    print('C')"
   ]
  },
  {
   "cell_type": "markdown",
   "metadata": {},
   "source": [
    "실습 1-5. 4개로 분기하는 조건문"
   ]
  },
  {
   "cell_type": "code",
   "execution_count": 17,
   "metadata": {},
   "outputs": [
    {
     "name": "stdout",
     "output_type": "stream",
     "text": [
      "정수를 입력하세요: 4\n"
     ]
    }
   ],
   "source": [
    "n= int(input('정수를 입력하세요: '))\n",
    "\n",
    "if n == 1:\n",
    "    print('A')\n",
    "elif n == 2:\n",
    "    print('B')\n",
    "elif n == 3:\n",
    "    print('C')"
   ]
  },
  {
   "cell_type": "code",
   "execution_count": 18,
   "metadata": {},
   "outputs": [
    {
     "name": "stdout",
     "output_type": "stream",
     "text": [
      "정수를 입력하세요: 4\n"
     ]
    }
   ],
   "source": [
    "n= int(input('정수를 입력하세요: '))\n",
    "\n",
    "if n == 1:\n",
    "    print('A')\n",
    "elif n == 2:\n",
    "    print('B')\n",
    "elif n == 3:\n",
    "    print('C')\n",
    "else:\n",
    "    pass"
   ]
  },
  {
   "cell_type": "markdown",
   "metadata": {},
   "source": [
    "실습 1-7. 1부터 n까지 정수의 합 구하기"
   ]
  },
  {
   "cell_type": "code",
   "execution_count": 22,
   "metadata": {},
   "outputs": [
    {
     "name": "stdout",
     "output_type": "stream",
     "text": [
      "정수를 입력하세요: 010\n",
      "55\n"
     ]
    }
   ],
   "source": [
    "n= int(input('정수를 입력하세요: '))\n",
    "\n",
    "sum = 0\n",
    "i = 1\n",
    "\n",
    "while i <= n:\n",
    "    sum += i\n",
    "    i += 1\n",
    "    \n",
    "print(sum)"
   ]
  },
  {
   "cell_type": "code",
   "execution_count": null,
   "metadata": {},
   "outputs": [],
   "source": []
  },
  {
   "cell_type": "code",
   "execution_count": null,
   "metadata": {},
   "outputs": [],
   "source": []
  },
  {
   "cell_type": "code",
   "execution_count": null,
   "metadata": {},
   "outputs": [],
   "source": []
  }
 ],
 "metadata": {
  "kernelspec": {
   "display_name": "Python 3",
   "language": "python",
   "name": "python3"
  },
  "language_info": {
   "codemirror_mode": {
    "name": "ipython",
    "version": 3
   },
   "file_extension": ".py",
   "mimetype": "text/x-python",
   "name": "python",
   "nbconvert_exporter": "python",
   "pygments_lexer": "ipython3",
   "version": "3.7.6"
  }
 },
 "nbformat": 4,
 "nbformat_minor": 4
}
